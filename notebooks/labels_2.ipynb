{
 "cells": [
  {
   "cell_type": "code",
   "execution_count": 4,
   "id": "4f37ab7c-b4b1-4ca6-9952-6ffe3f5799cc",
   "metadata": {
    "tags": []
   },
   "outputs": [
    {
     "name": "stdout",
     "output_type": "stream",
     "text": [
      "The first 10 tags:  [ 0 19 19  0  0 18  0 31  0 19]\n",
      "The only tag category:  [ 0  3  4  5 17 18 19 23 31 33]\n",
      "Statistics of the number of tags:  {0: 18650, 3: 3695, 4: 6914, 5: 2, 17: 373, 18: 381, 19: 3168, 23: 3642, 31: 207, 33: 57}\n"
     ]
    }
   ],
   "source": [
    "import numpy as np\n",
    "\n",
    "label_file_path = '/project/bli4/maps/wacv/GeoTransformer/data/Rellis/sequences/00/vel_cloud_node_semantickitti_label_id/000068.label'\n",
    "\n",
    "# Read .label file\n",
    "labels = np.fromfile(label_file_path, dtype=np.uint32)\n",
    "\n",
    "print(\"The first 10 tags: \", labels[:10])\n",
    "\n",
    "unique_labels = np.unique(labels)\n",
    "print(\"The only tag category: \", unique_labels)\n",
    "\n",
    "label_counts = {label: np.sum(labels == label) for label in unique_labels}\n",
    "print(\"Statistics of the number of tags: \", label_counts)\n"
   ]
  },
  {
   "cell_type": "code",
   "execution_count": 9,
   "id": "d73014eb-b8fb-4a9b-89c9-83326097c354",
   "metadata": {},
   "outputs": [
    {
     "name": "stdout",
     "output_type": "stream",
     "text": [
      "The first 10 semantic labels:  [0 0 0 0 0 0 0 0 0 0]\n",
      "The first 10 instance IDs:  [0 0 0 0 0 0 0 0 0 0]\n",
      "Unique semantic labels:  [  0   1  10  11  20  40  44  48  50  51  70  71  72  80  81  99 253]\n",
      "Statistics of the number of labels:  {0: 1067, 1: 53, 10: 16521, 11: 10, 20: 608, 40: 23177, 44: 16328, 48: 8154, 50: 42053, 51: 1218, 70: 9413, 71: 1641, 72: 7, 80: 224, 81: 65, 99: 534, 253: 8}\n"
     ]
    }
   ],
   "source": [
    "import numpy as np\n",
    "\n",
    "label_file_path = '/project/bli4/maps/wacv/GeoTransformer/data/Kitti/sequences/00/labels/000068.label'\n",
    "\n",
    "# Read .label file as uint32\n",
    "labels = np.fromfile(label_file_path, dtype=np.uint32)\n",
    "\n",
    "# Extract semantic labels (lower 16 bits)\n",
    "semantic_labels = labels & 0xFFFF\n",
    "\n",
    "# Extract instance IDs (upper 16 bits)\n",
    "instance_ids = labels >> 16\n",
    "\n",
    "print(\"The first 10 semantic labels: \", semantic_labels[:10])\n",
    "print(\"The first 10 instance IDs: \", instance_ids[:10])\n",
    "\n",
    "unique_labels = np.unique(semantic_labels)\n",
    "print(\"Unique semantic labels: \", unique_labels)\n",
    "\n",
    "label_counts = {label: np.sum(semantic_labels == label) for label in unique_labels}\n",
    "print(\"Statistics of the number of labels: \", label_counts)"
   ]
  },
  {
   "cell_type": "code",
   "execution_count": 5,
   "id": "fe6af133",
   "metadata": {},
   "outputs": [],
   "source": [
    "kitti_bin_path = '/project/bli4/maps/wacv/GeoTransformer/data/Kitti/sequences/00/velodyne/000068.bin'\n",
    "\n",
    "# Read .bin file\n",
    "points = np.fromfile(kitti_bin_path, dtype=np.float32).reshape(-1, 4)"
   ]
  },
  {
   "cell_type": "code",
   "execution_count": 6,
   "id": "bce8fbcf",
   "metadata": {},
   "outputs": [
    {
     "data": {
      "text/plain": [
       "(121081, 4)"
      ]
     },
     "execution_count": 6,
     "metadata": {},
     "output_type": "execute_result"
    }
   ],
   "source": [
    "points.shape"
   ]
  },
  {
   "cell_type": "code",
   "execution_count": 4,
   "id": "556479b8",
   "metadata": {},
   "outputs": [
    {
     "data": {
      "text/plain": [
       "(121081,)"
      ]
     },
     "execution_count": 4,
     "metadata": {},
     "output_type": "execute_result"
    }
   ],
   "source": [
    "labels.shape"
   ]
  }
 ],
 "metadata": {
  "kernelspec": {
   "display_name": "geotransformer",
   "language": "python",
   "name": "python3"
  },
  "language_info": {
   "codemirror_mode": {
    "name": "ipython",
    "version": 3
   },
   "file_extension": ".py",
   "mimetype": "text/x-python",
   "name": "python",
   "nbconvert_exporter": "python",
   "pygments_lexer": "ipython3",
   "version": "3.8.18"
  }
 },
 "nbformat": 4,
 "nbformat_minor": 5
}
