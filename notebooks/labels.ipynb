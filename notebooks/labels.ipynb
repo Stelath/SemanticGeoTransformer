{
 "cells": [
  {
   "cell_type": "code",
   "execution_count": 4,
   "id": "4f37ab7c-b4b1-4ca6-9952-6ffe3f5799cc",
   "metadata": {
    "tags": []
   },
   "outputs": [
    {
     "name": "stdout",
     "output_type": "stream",
     "text": [
      "The first 10 tags:  [ 0 19 19  0  0 18  0 31  0 19]\n",
      "The only tag category:  [ 0  3  4  5 17 18 19 23 31 33]\n",
      "Statistics of the number of tags:  {0: 18650, 3: 3695, 4: 6914, 5: 2, 17: 373, 18: 381, 19: 3168, 23: 3642, 31: 207, 33: 57}\n"
     ]
    }
   ],
   "source": [
    "import numpy as np\n",
    "\n",
    "label_file_path = '/project/bli4/maps/wacv/GeoTransformer/data/Rellis/sequences/00/vel_cloud_node_semantickitti_label_id/000068.label'\n",
    "\n",
    "# Read .label file\n",
    "labels = np.fromfile(label_file_path, dtype=np.uint32)\n",
    "\n",
    "print(\"The first 10 tags: \", labels[:10])\n",
    "\n",
    "unique_labels = np.unique(labels)\n",
    "print(\"The only tag category: \", unique_labels)\n",
    "\n",
    "label_counts = {label: np.sum(labels == label) for label in unique_labels}\n",
    "print(\"Statistics of the number of tags: \", label_counts)\n"
   ]
  },
  {
   "cell_type": "code",
   "execution_count": null,
   "id": "d73014eb-b8fb-4a9b-89c9-83326097c354",
   "metadata": {},
   "outputs": [],
   "source": []
  }
 ],
 "metadata": {
  "kernelspec": {
   "display_name": "geotransformer",
   "language": "python",
   "name": "geotransformer"
  },
  "language_info": {
   "codemirror_mode": {
    "name": "ipython",
    "version": 3
   },
   "file_extension": ".py",
   "mimetype": "text/x-python",
   "name": "python",
   "nbconvert_exporter": "python",
   "pygments_lexer": "ipython3",
   "version": "3.8.19"
  }
 },
 "nbformat": 4,
 "nbformat_minor": 5
}
